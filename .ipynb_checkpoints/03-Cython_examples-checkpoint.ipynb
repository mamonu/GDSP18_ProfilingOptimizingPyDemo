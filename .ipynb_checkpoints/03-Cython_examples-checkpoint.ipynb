{
 "cells": [
  {
   "cell_type": "code",
   "execution_count": 3,
   "metadata": {
    "collapsed": true
   },
   "outputs": [],
   "source": [
    "import numpy as np\n",
    "\n",
    "import numba as nb\n",
    "\n",
    "import pandas as pd\n",
    "import warnings\n",
    "warnings.filterwarnings('ignore')"
   ]
  },
  {
   "cell_type": "markdown",
   "metadata": {},
   "source": [
    "## 3.0 Cython"
   ]
  },
  {
   "cell_type": "code",
   "execution_count": 4,
   "metadata": {
    "collapsed": true
   },
   "outputs": [],
   "source": [
    "%load_ext Cython"
   ]
  },
  {
   "cell_type": "code",
   "execution_count": 5,
   "metadata": {
    "collapsed": true
   },
   "outputs": [],
   "source": [
    "def primes(kmax):\n",
    "    \"\"\"Calculation of prime numbers in standard Python syntax\"\"\"\n",
    "\n",
    "    p = list(range(1000))\n",
    "    result = []\n",
    "    if kmax > 1000:\n",
    "        kmax = 1000\n",
    "    k = 0\n",
    "    n = 2\n",
    "    while k < kmax:\n",
    "        i = 0\n",
    "        while i < k and n % p[i] != 0:\n",
    "            i = i + 1\n",
    "        if i == k:\n",
    "            p[k] = n\n",
    "            k = k + 1\n",
    "            result.append(n)\n",
    "        n = n + 1\n",
    "    return result"
   ]
  },
  {
   "cell_type": "code",
   "execution_count": 6,
   "metadata": {
    "collapsed": true
   },
   "outputs": [],
   "source": [
    "@nb.autojit\n",
    "def primesjit(kmax):\n",
    "    \"\"\"Calculation of prime numbers in standard Python syntax\"\"\"\n",
    "\n",
    "    p = list(range(1000))\n",
    "    result = []\n",
    "    if kmax > 1000:\n",
    "        kmax = 1000\n",
    "    k = 0\n",
    "    n = 2\n",
    "    while k < kmax:\n",
    "        i = 0\n",
    "        while i < k and n % p[i] != 0:\n",
    "            i = i + 1\n",
    "        if i == k:\n",
    "            p[k] = n\n",
    "            k = k + 1\n",
    "            result.append(n)\n",
    "        n = n + 1\n",
    "    return result"
   ]
  },
  {
   "cell_type": "code",
   "execution_count": 7,
   "metadata": {
    "collapsed": true
   },
   "outputs": [],
   "source": [
    "%%cython \n",
    "\n",
    "def primescy(int kmax):\n",
    "    \"\"\"Calculation of prime numbers with additional\n",
    "    Cython keywords\"\"\"\n",
    "\n",
    "    cdef int n, k, i\n",
    "    cdef int p[1000]\n",
    "    result = []\n",
    "    if kmax > 1000:\n",
    "        kmax = 1000\n",
    "    k = 0\n",
    "    n = 2\n",
    "    while k < kmax:\n",
    "        i = 0\n",
    "        while i < k and n % p[i] != 0:\n",
    "            i = i + 1\n",
    "        if i == k:\n",
    "            p[k] = n\n",
    "            k = k + 1\n",
    "            result.append(n)\n",
    "        n = n + 1\n",
    "    return result\n",
    "\n"
   ]
  },
  {
   "cell_type": "code",
   "execution_count": 8,
   "metadata": {},
   "outputs": [
    {
     "name": "stdout",
     "output_type": "stream",
     "text": [
      "14.5 ms ± 1.28 ms per loop (mean ± std. dev. of 7 runs, 5 loops each)\n"
     ]
    }
   ],
   "source": [
    "plain = %timeit -n 5 -o primes(500)"
   ]
  },
  {
   "cell_type": "code",
   "execution_count": 9,
   "metadata": {},
   "outputs": [
    {
     "name": "stdout",
     "output_type": "stream",
     "text": [
      "The slowest run took 107.07 times longer than the fastest. This could mean that an intermediate result is being cached.\n",
      "9.91 ms ± 22.7 ms per loop (mean ± std. dev. of 7 runs, 5 loops each)\n"
     ]
    }
   ],
   "source": [
    "jitted = %timeit -n 5 -o primesjit(500)"
   ]
  },
  {
   "cell_type": "code",
   "execution_count": 10,
   "metadata": {},
   "outputs": [
    {
     "name": "stdout",
     "output_type": "stream",
     "text": [
      "567 µs ± 45.1 µs per loop (mean ± std. dev. of 7 runs, 5 loops each)\n"
     ]
    }
   ],
   "source": [
    "cy = %timeit -n 5 -o primescy(500)"
   ]
  },
  {
   "cell_type": "code",
   "execution_count": 11,
   "metadata": {},
   "outputs": [
    {
     "data": {
      "text/plain": [
       "22.59733996360833"
      ]
     },
     "execution_count": 11,
     "metadata": {},
     "output_type": "execute_result"
    }
   ],
   "source": [
    "plain.best/jitted.best"
   ]
  },
  {
   "cell_type": "code",
   "execution_count": 12,
   "metadata": {},
   "outputs": [
    {
     "data": {
      "text/plain": [
       "25.62091440368937"
      ]
     },
     "execution_count": 12,
     "metadata": {},
     "output_type": "execute_result"
    }
   ],
   "source": [
    "plain.best / cy.best"
   ]
  },
  {
   "cell_type": "code",
   "execution_count": null,
   "metadata": {
    "collapsed": true
   },
   "outputs": [],
   "source": []
  },
  {
   "cell_type": "code",
   "execution_count": 13,
   "metadata": {
    "collapsed": true
   },
   "outputs": [],
   "source": [
    "### Cython also annotates/profiles code with -a flag"
   ]
  },
  {
   "cell_type": "markdown",
   "metadata": {},
   "source": [
    "<img src=\"cython_annotation.png\" alt=\"cython\" style=\"width: 300px;\"/>"
   ]
  },
  {
   "cell_type": "markdown",
   "metadata": {},
   "source": [
    "## ok lets try now to see how it behaves when kmax is getting larger"
   ]
  },
  {
   "cell_type": "code",
   "execution_count": 14,
   "metadata": {
    "collapsed": true
   },
   "outputs": [],
   "source": [
    "from matplotlib.ticker import NullFormatter  # useful for `logit` scale\n",
    "import matplotlib.pyplot as plt\n",
    "\n",
    "#code to measure for kmax 1 to 500\n",
    "\n",
    "#df = pd.DataFrame(columns=['num','plain','jit','cython'])\n",
    "#for i in range(1,500):\n",
    "#    pl = %timeit -n 5 -o primes(i)\n",
    "#    jt = %timeit -n 5 -o primesjit(i)\n",
    "#    cy = %timeit -n 5 -o primescy(i)\n",
    "#    df = df.append({'num': i,'plain':pl.best,'jit':jt.best,'cython':cy.best}, ignore_index=True)\n",
    "    \n",
    "#however instead of running it loading a previously saved one \n",
    "\n",
    "df = pd.read_csv('primesresults.csv')\n",
    "\n"
   ]
  },
  {
   "cell_type": "code",
   "execution_count": 15,
   "metadata": {},
   "outputs": [
    {
     "data": {
      "image/png": "[encoded data removed]",
      "text/plain": [
       "<matplotlib.figure.Figure at 0x7fe9e467ab00>"
      ]
     },
     "metadata": {},
     "output_type": "display_data"
    }
   ],
   "source": [
    "%matplotlib inline\n",
    "\n",
    "plt.plot( df.num,df.plain, 'r',label='plain py')\n",
    "plt.plot (df.num,df.jit, 'b',label='numba')\n",
    "plt.plot(df.num,df.cython, 'g',label='Cython')\n",
    "\n",
    "plt.title('prime number calculations')\n",
    "plt.legend()\n",
    "plt.xlabel('number of primes wanted')\n",
    "#plt.ylabel('time(log) in sec')\n",
    "\n",
    "plt.yscale('logit')\n",
    "\n",
    "plt.gca().yaxis.set_minor_formatter(NullFormatter())\n",
    "plt.show()"
   ]
  },
  {
   "cell_type": "code",
   "execution_count": null,
   "metadata": {
    "collapsed": true
   },
   "outputs": [],
   "source": []
  },
  {
   "cell_type": "code",
   "execution_count": 16,
   "metadata": {
    "collapsed": true
   },
   "outputs": [],
   "source": [
    "### Another example with MC sim calculations (not ready yet)"
   ]
  },
  {
   "cell_type": "code",
   "execution_count": 17,
   "metadata": {
    "collapsed": true
   },
   "outputs": [],
   "source": [
    "#===== The problem =====\n",
    "\n",
    "#A dice is thrown m times.\n",
    "#What is the probability of getting six  *at least* n times?\n",
    "#For example, if m=5 and n=3, this is the same as asking for\n",
    "#the probability that three or more out of five dice show six.\n",
    "#The probability can be estimated by Monte Carlo simulation.\n",
    "\n",
    "#We simulate the process a large number of times, N, and count how\n",
    "#many times, M, the experiment turned out successfully, i.e., when we\n",
    "#got at least n out of m dice with six in a throw."
   ]
  },
  {
   "cell_type": "code",
   "execution_count": null,
   "metadata": {
    "collapsed": true
   },
   "outputs": [],
   "source": []
  },
  {
   "cell_type": "code",
   "execution_count": null,
   "metadata": {
    "collapsed": true
   },
   "outputs": [],
   "source": []
  },
  {
   "cell_type": "code",
   "execution_count": 18,
   "metadata": {
    "collapsed": true
   },
   "outputs": [],
   "source": [
    "import random\n",
    "def dice6_py(N, ndice, nsix):\n",
    "    M = 0                     # no of successful events\n",
    "    for i in range(N):        # repeat N experiments\n",
    "        six = 0               # how many dice with six eyes?\n",
    "        for j in range(ndice):\n",
    "            r = random.randint(1, 6)  # roll die no. j\n",
    "            if r == 6:\n",
    "               six += 1\n",
    "        if six >= nsix:       # successful event?\n",
    "            M += 1\n",
    "    p = float(M)/N\n",
    "    return p"
   ]
  },
  {
   "cell_type": "code",
   "execution_count": 19,
   "metadata": {
    "collapsed": true
   },
   "outputs": [],
   "source": [
    "@nb.autojit\n",
    "def dice6_jit(N, ndice, nsix):\n",
    "    M = 0                     # no of successful events\n",
    "    for i in range(N):        # repeat N experiments\n",
    "        six = 0               # how many dice with six eyes?\n",
    "        for j in range(ndice):\n",
    "            r = random.randint(1, 6)  # roll die no. j\n",
    "            if r == 6:\n",
    "               six += 1\n",
    "        if six >= nsix:       # successful event?\n",
    "            M += 1\n",
    "    p = float(M)/N\n",
    "    return p"
   ]
  },
  {
   "cell_type": "code",
   "execution_count": 20,
   "metadata": {
    "collapsed": true
   },
   "outputs": [],
   "source": [
    "\n",
    "def dice6_vec1(N, ndice, nsix):\n",
    "    eyes = np.random.random_integers(1, 6, size=(N, ndice))\n",
    "    compare = eyes == 6\n",
    "    throws_with_6 = np.sum(compare, axis=1)  # sum over columns\n",
    "    nsuccesses = throws_with_6 >= nsix\n",
    "    M = np.sum(nsuccesses)\n",
    "    p = float(M)/N\n",
    "    return p"
   ]
  },
  {
   "cell_type": "code",
   "execution_count": 21,
   "metadata": {
    "collapsed": true
   },
   "outputs": [],
   "source": [
    "N=1000\n",
    "ndice = 6\n",
    "nsix =3"
   ]
  },
  {
   "cell_type": "code",
   "execution_count": 26,
   "metadata": {},
   "outputs": [
    {
     "name": "stdout",
     "output_type": "stream",
     "text": [
      "7.65 ms ± 403 µs per loop (mean ± std. dev. of 7 runs, 10 loops each)\n",
      "43.2 µs ± 1.02 µs per loop (mean ± std. dev. of 7 runs, 10 loops each)\n",
      "116 µs ± 19.9 µs per loop (mean ± std. dev. of 7 runs, 10 loops each)\n"
     ]
    }
   ],
   "source": [
    "dpy = %timeit -o -n 10 dice6_py(N,ndice,nsix)\n",
    "djy = %timeit -o -n 10 dice6_jit(N,ndice,nsix)\n",
    "dvy = %timeit -o -n 10 dice6_vec1(N,ndice,nsix)\n"
   ]
  },
  {
   "cell_type": "code",
   "execution_count": 23,
   "metadata": {},
   "outputs": [],
   "source": [
    "\n",
    "\n",
    "#ddf = pd.DataFrame(columns=['num','plain','jit','numpy'])\n",
    "#for i in range(100,5000,50):\n",
    "#    dpy = %timeit -o -n 1 dice6_py(i,ndice,nsix)\n",
    "#    djy = %timeit -o -n 1 dice6_jit(i,ndice,nsix)\n",
    "#    dvy = %timeit -o -n 1 dice6_vec1(i,ndice,nsix)\n",
    "#    ddf = ddf.append({'num': i,'plain':dpy.best,'jit':djy.best,'numpy':dvy.best}, ignore_index=True)\n",
    "    \n",
    "#ddf.to_csv('diceresults.csv')\n",
    "ddf=pd.read_csv('diceresults.csv')"
   ]
  },
  {
   "cell_type": "code",
   "execution_count": 24,
   "metadata": {},
   "outputs": [
    {
     "data": {
      "image/png": "[encoded data removed]",
      "text/plain": [
       "<matplotlib.figure.Figure at 0x7fe9e23c48d0>"
      ]
     },
     "metadata": {},
     "output_type": "display_data"
    }
   ],
   "source": [
    "%matplotlib inline\n",
    "plt.gca().clear()\n",
    "plt.plot( ddf.num,ddf.plain, 'r',label='plain py')\n",
    "plt.plot(ddf.num,ddf.numpy, 'g',label='numpy')\n",
    "plt.plot (ddf.num,ddf.jit, 'b',label='numba')\n",
    "\n",
    "\n",
    "plt.title('probability calculations')\n",
    "plt.legend()\n",
    "plt.xlabel('number of experiments')\n",
    "#plt.ylabel('time(log) in sec')\n",
    "\n",
    "plt.yscale('logit')\n",
    "\n",
    "plt.gca().yaxis.set_minor_formatter(NullFormatter())\n",
    "plt.show()"
   ]
  },
  {
   "cell_type": "code",
   "execution_count": null,
   "metadata": {
    "collapsed": true
   },
   "outputs": [],
   "source": []
  }
 ],
 "metadata": {
  "kernelspec": {
   "display_name": "Python 3",
   "language": "python",
   "name": "python3"
  },
  "language_info": {
   "codemirror_mode": {
    "name": "ipython",
    "version": 3
   },
   "file_extension": ".py",
   "mimetype": "text/x-python",
   "name": "python",
   "nbconvert_exporter": "python",
   "pygments_lexer": "ipython3",
   "version": "3.6.3"
  }
 },
 "nbformat": 4,
 "nbformat_minor": 2
}
